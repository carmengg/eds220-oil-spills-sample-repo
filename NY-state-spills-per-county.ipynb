{
 "cells": [
  {
   "cell_type": "markdown",
   "metadata": {},
   "source": [
    "# Oil spills in New York State\n",
    "\n",
    "Author: Carmen Galaz García\n",
    "\n",
    "Repository: https://github.com/carmengg/eds220-oil-spills-sample-repo\n",
    "\n",
    "## About\n",
    "\n",
    "In this notebook we create a [choropleth map](https://en.wikipedia.org/wiki/Choropleth_map) showing the number of oil spills per county in the state of New York from January to October 2023. \n",
    "\n",
    "\n",
    "### Highlights\n",
    "- Data wrangling and exploration of with `pandas`\n",
    "- Geospatial data wrangling with `geopandas`\n",
    "- Merging of tabular and vector data\n",
    "- Creating and customizing a choropleth map\n",
    "\n",
    "\n",
    "## About the data\n",
    "In this notebook we use two datasets:\n",
    "\n",
    "\n",
    "**1) Spill incidents in NY state**\n",
    "\n",
    "The first dataset contains information about [spilling incidents of petroleum and other hazardous materials in the state of New York, US.](https://data.ny.gov/Energy-Environment/Spill-Incidents/u44d-k5fk). \n",
    "According to the New York State Department of Environmental Conservation, around 15,000 spill reports are recorded each year, with around 90% of these spills related to petroleum products. \n",
    "\n",
    "This dataset has been downloaded from the New York State data portal as a csv file. \n",
    "It has 20 columns recording information about the location, time, source, and materials involved in each spill. \n",
    "For this analysis we will use the following columns:\n",
    "\n",
    "- **Material Family**: represents the family of the spilled material: Petroleum, Oxygenates, Hazardous Material, Other.\n",
    "- **Spill Date**: Date of spill.\n",
    "- **County**: County location of the spill.\n",
    "\n",
    "Additional information and metadata for this datset is available in the 'NYSDEC_SpillIncidents_Overview.pdf' and 'NYSDEC_SpillIncidents_DataDictionary.pdf' located at the portal.\n",
    "\n",
    "**2) Natural Earth 1:10m Cultural Vectors, Counties**\n",
    "\n",
    "The second dataset is [Natural Earth's United States Counties at 1:10m resolution](https://www.naturalearthdata.com/downloads/10m-cultural-vectors/). \n",
    "This dataset has been downloaded as a shapefile from Natural Earth's data portal. \n",
    "It has 62 columns with information about the counties name and location within the US. "
   ]
  },
  {
   "cell_type": "markdown",
   "metadata": {},
   "source": [
    "## Import libraries"
   ]
  },
  {
   "cell_type": "code",
   "execution_count": 38,
   "metadata": {
    "tags": []
   },
   "outputs": [],
   "source": [
    "import os\n",
    "import numpy as np\n",
    "import pandas as pd\n",
    "import geopandas as gpd\n",
    "\n",
    "import matplotlib.pyplot as plt\n",
    "from matplotlib.patches import Patch"
   ]
  },
  {
   "cell_type": "code",
   "execution_count": 34,
   "metadata": {
    "tags": []
   },
   "outputs": [],
   "source": [
    "# set pandas to display all columns\n",
    "pd.set_option('display.max_columns', None)"
   ]
  },
  {
   "cell_type": "markdown",
   "metadata": {},
   "source": [
    "## Import data "
   ]
  },
  {
   "cell_type": "code",
   "execution_count": 24,
   "metadata": {
    "tags": []
   },
   "outputs": [],
   "source": [
    "# import dataset from data repository\n",
    "#spills = pd.read_csv('https://data.ny.gov/resource/u44d-k5fk.csv')\n",
    "\n",
    "# import datasets from data directory\n",
    "data_dir = os.path.join(os.getcwd(), 'data')\n",
    "\n",
    "spills = pd.read_csv(os.path.join(data_dir,'Spill_Incidents.csv'))\n",
    "counties = gpd.read_file(os.path.join(data_dir,'ne_10m_admin_2_counties','ne_10m_admin_2_counties.shp'))"
   ]
  },
  {
   "cell_type": "markdown",
   "metadata": {},
   "source": [
    "## Prepare spills data\n",
    "\n",
    "First, we can take a quick look at our `spills` dataframe:"
   ]
  },
  {
   "cell_type": "code",
   "execution_count": 27,
   "metadata": {
    "tags": []
   },
   "outputs": [
    {
     "name": "stdout",
     "output_type": "stream",
     "text": [
      "old column names:\n",
      " Index(['spill_number', 'program_facility_name', 'street_1', 'street_2',\n",
      "       'locality', 'county', 'zip_code', 'swis_code', 'dec_region',\n",
      "       'spill_date', 'received_date', 'contributing_factor', 'waterbody',\n",
      "       'source', 'close_date', 'material_name', 'material_family', 'quantity',\n",
      "       'units', 'recovered'],\n",
      "      dtype='object') \n",
      "\n"
     ]
    },
    {
     "data": {
      "text/html": [
       "<div>\n",
       "<style scoped>\n",
       "    .dataframe tbody tr th:only-of-type {\n",
       "        vertical-align: middle;\n",
       "    }\n",
       "\n",
       "    .dataframe tbody tr th {\n",
       "        vertical-align: top;\n",
       "    }\n",
       "\n",
       "    .dataframe thead th {\n",
       "        text-align: right;\n",
       "    }\n",
       "</style>\n",
       "<table border=\"1\" class=\"dataframe\">\n",
       "  <thead>\n",
       "    <tr style=\"text-align: right;\">\n",
       "      <th></th>\n",
       "      <th>spill_number</th>\n",
       "      <th>program_facility_name</th>\n",
       "      <th>street_1</th>\n",
       "      <th>street_2</th>\n",
       "      <th>locality</th>\n",
       "      <th>county</th>\n",
       "      <th>zip_code</th>\n",
       "      <th>swis_code</th>\n",
       "      <th>dec_region</th>\n",
       "      <th>spill_date</th>\n",
       "      <th>received_date</th>\n",
       "      <th>contributing_factor</th>\n",
       "      <th>waterbody</th>\n",
       "      <th>source</th>\n",
       "      <th>close_date</th>\n",
       "      <th>material_name</th>\n",
       "      <th>material_family</th>\n",
       "      <th>quantity</th>\n",
       "      <th>units</th>\n",
       "      <th>recovered</th>\n",
       "    </tr>\n",
       "  </thead>\n",
       "  <tbody>\n",
       "    <tr>\n",
       "      <th>0</th>\n",
       "      <td>107132</td>\n",
       "      <td>MH 864</td>\n",
       "      <td>RT 119/MILLWOOD RD</td>\n",
       "      <td>NaN</td>\n",
       "      <td>ELMSFORD</td>\n",
       "      <td>Westchester</td>\n",
       "      <td>NaN</td>\n",
       "      <td>6000</td>\n",
       "      <td>3</td>\n",
       "      <td>10/10/2001</td>\n",
       "      <td>10/10/2001</td>\n",
       "      <td>Unknown</td>\n",
       "      <td>NaN</td>\n",
       "      <td>Unknown</td>\n",
       "      <td>10/15/2001</td>\n",
       "      <td>unknown material</td>\n",
       "      <td>Other</td>\n",
       "      <td>10.0</td>\n",
       "      <td>Gallons</td>\n",
       "      <td>0.0</td>\n",
       "    </tr>\n",
       "    <tr>\n",
       "      <th>1</th>\n",
       "      <td>405586</td>\n",
       "      <td>BOWRY BAY</td>\n",
       "      <td>WATER POLL CONTROL</td>\n",
       "      <td>NaN</td>\n",
       "      <td>QUEENS</td>\n",
       "      <td>Queens</td>\n",
       "      <td>NaN</td>\n",
       "      <td>4101</td>\n",
       "      <td>2</td>\n",
       "      <td>08/21/2004</td>\n",
       "      <td>08/21/2004</td>\n",
       "      <td>Other</td>\n",
       "      <td>EAST RIVER</td>\n",
       "      <td>Unknown</td>\n",
       "      <td>09/17/2004</td>\n",
       "      <td>raw sewage</td>\n",
       "      <td>Other</td>\n",
       "      <td>0.0</td>\n",
       "      <td>Pounds</td>\n",
       "      <td>0.0</td>\n",
       "    </tr>\n",
       "    <tr>\n",
       "      <th>2</th>\n",
       "      <td>405586</td>\n",
       "      <td>BOWRY BAY</td>\n",
       "      <td>WATER POLL CONTROL</td>\n",
       "      <td>NaN</td>\n",
       "      <td>QUEENS</td>\n",
       "      <td>Queens</td>\n",
       "      <td>NaN</td>\n",
       "      <td>4101</td>\n",
       "      <td>2</td>\n",
       "      <td>08/21/2004</td>\n",
       "      <td>08/21/2004</td>\n",
       "      <td>Other</td>\n",
       "      <td>EAST RIVER</td>\n",
       "      <td>Unknown</td>\n",
       "      <td>09/17/2004</td>\n",
       "      <td>raw sewage</td>\n",
       "      <td>Other</td>\n",
       "      <td>0.0</td>\n",
       "      <td>NaN</td>\n",
       "      <td>0.0</td>\n",
       "    </tr>\n",
       "  </tbody>\n",
       "</table>\n",
       "</div>"
      ],
      "text/plain": [
       "   spill_number program_facility_name            street_1 street_2  locality  \\\n",
       "0        107132                MH 864  RT 119/MILLWOOD RD      NaN  ELMSFORD   \n",
       "1        405586             BOWRY BAY  WATER POLL CONTROL      NaN    QUEENS   \n",
       "2        405586             BOWRY BAY  WATER POLL CONTROL      NaN    QUEENS   \n",
       "\n",
       "        county zip_code  swis_code  dec_region  spill_date received_date  \\\n",
       "0  Westchester      NaN       6000           3  10/10/2001    10/10/2001   \n",
       "1       Queens      NaN       4101           2  08/21/2004    08/21/2004   \n",
       "2       Queens      NaN       4101           2  08/21/2004    08/21/2004   \n",
       "\n",
       "  contributing_factor   waterbody   source  close_date     material_name  \\\n",
       "0             Unknown         NaN  Unknown  10/15/2001  unknown material   \n",
       "1               Other  EAST RIVER  Unknown  09/17/2004        raw sewage   \n",
       "2               Other  EAST RIVER  Unknown  09/17/2004        raw sewage   \n",
       "\n",
       "  material_family  quantity    units  recovered  \n",
       "0           Other      10.0  Gallons        0.0  \n",
       "1           Other       0.0   Pounds        0.0  \n",
       "2           Other       0.0      NaN        0.0  "
      ]
     },
     "execution_count": 27,
     "metadata": {},
     "output_type": "execute_result"
    }
   ],
   "source": [
    "# update column names to small caps and replace spaces with _\n",
    "print('old column names:\\n', spills.columns, '\\n')\n",
    "spills.columns = spills.columns.str.lower().str.replace(' ','_')\n",
    "\n",
    "# check first three rows of dataframe\n",
    "spills.head(3)"
   ]
  },
  {
   "cell_type": "markdown",
   "metadata": {},
   "source": [
    "Since we will subset the data by date, we'll update the data type of the the `spill_date` column to datetime type:"
   ]
  },
  {
   "cell_type": "code",
   "execution_count": 28,
   "metadata": {
    "tags": []
   },
   "outputs": [
    {
     "name": "stdout",
     "output_type": "stream",
     "text": [
      "original dtype of spill_date:  <class 'numpy.dtype[object_]'>\n",
      "updated dtype of spill_date:  <class 'numpy.dtype[datetime64]'>\n"
     ]
    }
   ],
   "source": [
    "print('original dtype of spill_date: ', type(spills.dtypes.spill_date))\n",
    "      \n",
    "# convert spill_date to datetime dtype\n",
    "spills.spill_date = pd.to_datetime(spills.spill_date)\n",
    "      \n",
    "print('updated dtype of spill_date: ', type(spills.dtypes.spill_date))"
   ]
  },
  {
   "cell_type": "markdown",
   "metadata": {},
   "source": [
    "### Data selection\n",
    "\n",
    "As the next cell shows, there are multiple material families in the spills dataset and spills record go back to 1900. \n",
    "For this analysis, we select data about petroleum spills that took place between January 1st 2023 and October 31st  2023 (including both dates). "
   ]
  },
  {
   "cell_type": "code",
   "execution_count": 29,
   "metadata": {
    "tags": []
   },
   "outputs": [
    {
     "name": "stdout",
     "output_type": "stream",
     "text": [
      "spills materials:  ['Other' 'Petroleum' 'Hazardous Material' 'Oxygenates']\n",
      "oldes spill record:  1900.0\n"
     ]
    }
   ],
   "source": [
    "# material families in spills\n",
    "print('spills materials: ', spills.material_family.unique())\n",
    "\n",
    "# oldest spill record\n",
    "print('oldes spill record: ', spills.spill_date.dt.year.min())"
   ]
  },
  {
   "cell_type": "code",
   "execution_count": 33,
   "metadata": {
    "tags": []
   },
   "outputs": [
    {
     "name": "stdout",
     "output_type": "stream",
     "text": [
      "AFTER DATA SELECTION: \n",
      "material family: ['Petroleum']\n",
      "year: [2023]\n",
      "months: [ 6  8  9  7  1  2  3 10  5  4]\n"
     ]
    }
   ],
   "source": [
    "# select petroleum spills from January to October 2023\n",
    "petr_23 = spills[ (spills.spill_date >= '2023-01-01') & (spills.spill_date<='2023-10-31') & (spills.material_family == 'Petroleum')].copy()\n",
    "\n",
    "# verify data selection\n",
    "print('AFTER DATA SELECTION')\n",
    "print(f\"material family: {petr_23.material_family.unique()}\")\n",
    "print(f'year: {petr_23.spill_date.dt.year.unique()}')\n",
    "print(f'months: {petr_23.spill_date.dt.month.unique()}')"
   ]
  },
  {
   "cell_type": "markdown",
   "metadata": {},
   "source": [
    "### Data aggregation\n",
    "\n",
    "In this step we create new dataframe named `spills_per_county` with the number of petroleum spills per county from January to October 2023:"
   ]
  },
  {
   "cell_type": "code",
   "execution_count": 31,
   "metadata": {
    "tags": []
   },
   "outputs": [
    {
     "data": {
      "text/html": [
       "<div>\n",
       "<style scoped>\n",
       "    .dataframe tbody tr th:only-of-type {\n",
       "        vertical-align: middle;\n",
       "    }\n",
       "\n",
       "    .dataframe tbody tr th {\n",
       "        vertical-align: top;\n",
       "    }\n",
       "\n",
       "    .dataframe thead th {\n",
       "        text-align: right;\n",
       "    }\n",
       "</style>\n",
       "<table border=\"1\" class=\"dataframe\">\n",
       "  <thead>\n",
       "    <tr style=\"text-align: right;\">\n",
       "      <th></th>\n",
       "      <th>county</th>\n",
       "      <th>n_spills</th>\n",
       "    </tr>\n",
       "  </thead>\n",
       "  <tbody>\n",
       "    <tr>\n",
       "      <th>0</th>\n",
       "      <td>Albany</td>\n",
       "      <td>204</td>\n",
       "    </tr>\n",
       "    <tr>\n",
       "      <th>1</th>\n",
       "      <td>Allegany</td>\n",
       "      <td>30</td>\n",
       "    </tr>\n",
       "    <tr>\n",
       "      <th>2</th>\n",
       "      <td>Bronx</td>\n",
       "      <td>143</td>\n",
       "    </tr>\n",
       "    <tr>\n",
       "      <th>3</th>\n",
       "      <td>Broome</td>\n",
       "      <td>74</td>\n",
       "    </tr>\n",
       "    <tr>\n",
       "      <th>4</th>\n",
       "      <td>Cattaraugus</td>\n",
       "      <td>46</td>\n",
       "    </tr>\n",
       "    <tr>\n",
       "      <th>...</th>\n",
       "      <td>...</td>\n",
       "      <td>...</td>\n",
       "    </tr>\n",
       "    <tr>\n",
       "      <th>59</th>\n",
       "      <td>Washington</td>\n",
       "      <td>96</td>\n",
       "    </tr>\n",
       "    <tr>\n",
       "      <th>60</th>\n",
       "      <td>Wayne</td>\n",
       "      <td>38</td>\n",
       "    </tr>\n",
       "    <tr>\n",
       "      <th>61</th>\n",
       "      <td>Westchester</td>\n",
       "      <td>730</td>\n",
       "    </tr>\n",
       "    <tr>\n",
       "      <th>62</th>\n",
       "      <td>Wyoming</td>\n",
       "      <td>24</td>\n",
       "    </tr>\n",
       "    <tr>\n",
       "      <th>63</th>\n",
       "      <td>Yates</td>\n",
       "      <td>6</td>\n",
       "    </tr>\n",
       "  </tbody>\n",
       "</table>\n",
       "<p>64 rows × 2 columns</p>\n",
       "</div>"
      ],
      "text/plain": [
       "         county  n_spills\n",
       "0        Albany       204\n",
       "1      Allegany        30\n",
       "2         Bronx       143\n",
       "3        Broome        74\n",
       "4   Cattaraugus        46\n",
       "..          ...       ...\n",
       "59   Washington        96\n",
       "60        Wayne        38\n",
       "61  Westchester       730\n",
       "62      Wyoming        24\n",
       "63        Yates         6\n",
       "\n",
       "[64 rows x 2 columns]"
      ]
     },
     "execution_count": 31,
     "metadata": {},
     "output_type": "execute_result"
    }
   ],
   "source": [
    "# obtain number of spills per county as dataframe\n",
    "spills_per_county = pd.DataFrame(petr_23.groupby('county').count().spill_number)\n",
    "spills_per_county = spills_per_county.rename(columns={'spill_number':'n_spills'}).reset_index()\n",
    "spills_per_county"
   ]
  },
  {
   "cell_type": "markdown",
   "metadata": {},
   "source": [
    "## Prepare counties data\n",
    "\n",
    "First, we can take a quick look at our GeoDataFrame:"
   ]
  },
  {
   "cell_type": "code",
   "execution_count": 36,
   "metadata": {
    "tags": []
   },
   "outputs": [
    {
     "name": "stdout",
     "output_type": "stream",
     "text": [
      "old column names:\n",
      " Index(['featurecla', 'scalerank', 'adm2_code', 'iso_3166_2', 'iso_a2',\n",
      "       'adm0_sr', 'name', 'name_alt', 'name_local', 'type', 'type_en',\n",
      "       'code_local', 'region', 'region_cod', 'abbrev', 'area_sqkm',\n",
      "       'sameascity', 'labelrank', 'name_len', 'mapcolor9', 'mapcolor13',\n",
      "       'fips', 'sov_a3', 'adm0_a3', 'adm0_label', 'admin', 'geonunit', 'gu_a3',\n",
      "       'min_label', 'max_label', 'min_zoom', 'wikidataid', 'ne_id', 'latitude',\n",
      "       'longitude', 'name_ar', 'name_bn', 'name_de', 'name_el', 'name_en',\n",
      "       'name_es', 'name_fa', 'name_fr', 'name_he', 'name_hi', 'name_hu',\n",
      "       'name_id', 'name_it', 'name_ja', 'name_ko', 'name_nl', 'name_pl',\n",
      "       'name_pt', 'name_ru', 'name_sv', 'name_tr', 'name_uk', 'name_ur',\n",
      "       'name_vi', 'name_zh', 'name_zht', 'geometry'],\n",
      "      dtype='object') \n",
      "\n"
     ]
    },
    {
     "data": {
      "text/html": [
       "<div>\n",
       "<style scoped>\n",
       "    .dataframe tbody tr th:only-of-type {\n",
       "        vertical-align: middle;\n",
       "    }\n",
       "\n",
       "    .dataframe tbody tr th {\n",
       "        vertical-align: top;\n",
       "    }\n",
       "\n",
       "    .dataframe thead th {\n",
       "        text-align: right;\n",
       "    }\n",
       "</style>\n",
       "<table border=\"1\" class=\"dataframe\">\n",
       "  <thead>\n",
       "    <tr style=\"text-align: right;\">\n",
       "      <th></th>\n",
       "      <th>featurecla</th>\n",
       "      <th>scalerank</th>\n",
       "      <th>adm2_code</th>\n",
       "      <th>iso_3166_2</th>\n",
       "      <th>iso_a2</th>\n",
       "      <th>adm0_sr</th>\n",
       "      <th>name</th>\n",
       "      <th>name_alt</th>\n",
       "      <th>name_local</th>\n",
       "      <th>type</th>\n",
       "      <th>type_en</th>\n",
       "      <th>code_local</th>\n",
       "      <th>region</th>\n",
       "      <th>region_cod</th>\n",
       "      <th>abbrev</th>\n",
       "      <th>area_sqkm</th>\n",
       "      <th>sameascity</th>\n",
       "      <th>labelrank</th>\n",
       "      <th>name_len</th>\n",
       "      <th>mapcolor9</th>\n",
       "      <th>mapcolor13</th>\n",
       "      <th>fips</th>\n",
       "      <th>sov_a3</th>\n",
       "      <th>adm0_a3</th>\n",
       "      <th>adm0_label</th>\n",
       "      <th>admin</th>\n",
       "      <th>geonunit</th>\n",
       "      <th>gu_a3</th>\n",
       "      <th>min_label</th>\n",
       "      <th>max_label</th>\n",
       "      <th>min_zoom</th>\n",
       "      <th>wikidataid</th>\n",
       "      <th>ne_id</th>\n",
       "      <th>latitude</th>\n",
       "      <th>longitude</th>\n",
       "      <th>name_ar</th>\n",
       "      <th>name_bn</th>\n",
       "      <th>name_de</th>\n",
       "      <th>name_el</th>\n",
       "      <th>name_en</th>\n",
       "      <th>name_es</th>\n",
       "      <th>name_fa</th>\n",
       "      <th>name_fr</th>\n",
       "      <th>name_he</th>\n",
       "      <th>name_hi</th>\n",
       "      <th>name_hu</th>\n",
       "      <th>name_id</th>\n",
       "      <th>name_it</th>\n",
       "      <th>name_ja</th>\n",
       "      <th>name_ko</th>\n",
       "      <th>name_nl</th>\n",
       "      <th>name_pl</th>\n",
       "      <th>name_pt</th>\n",
       "      <th>name_ru</th>\n",
       "      <th>name_sv</th>\n",
       "      <th>name_tr</th>\n",
       "      <th>name_uk</th>\n",
       "      <th>name_ur</th>\n",
       "      <th>name_vi</th>\n",
       "      <th>name_zh</th>\n",
       "      <th>name_zht</th>\n",
       "      <th>geometry</th>\n",
       "    </tr>\n",
       "  </thead>\n",
       "  <tbody>\n",
       "    <tr>\n",
       "      <th>0</th>\n",
       "      <td>Admin-2 scale rank</td>\n",
       "      <td>0</td>\n",
       "      <td>USA-53073</td>\n",
       "      <td>US-53</td>\n",
       "      <td>US</td>\n",
       "      <td>1</td>\n",
       "      <td>Whatcom</td>\n",
       "      <td>Whatcom County</td>\n",
       "      <td>None</td>\n",
       "      <td>County</td>\n",
       "      <td>County</td>\n",
       "      <td>53073</td>\n",
       "      <td>WA</td>\n",
       "      <td>53</td>\n",
       "      <td>None</td>\n",
       "      <td>5484.0</td>\n",
       "      <td>0</td>\n",
       "      <td>0</td>\n",
       "      <td>7</td>\n",
       "      <td>1</td>\n",
       "      <td>1</td>\n",
       "      <td>US53073</td>\n",
       "      <td>US1</td>\n",
       "      <td>USA</td>\n",
       "      <td>2</td>\n",
       "      <td>United States of America</td>\n",
       "      <td>United States of America</td>\n",
       "      <td>USA</td>\n",
       "      <td>7</td>\n",
       "      <td>9</td>\n",
       "      <td>6.5</td>\n",
       "      <td>Q156623</td>\n",
       "      <td>1730095903</td>\n",
       "      <td>48.817814</td>\n",
       "      <td>-121.709219</td>\n",
       "      <td>واتكوم</td>\n",
       "      <td>None</td>\n",
       "      <td>Whatcom</td>\n",
       "      <td>None</td>\n",
       "      <td>Whatcom</td>\n",
       "      <td>Whatcom</td>\n",
       "      <td>شهرستان واتکام، واشینگتن</td>\n",
       "      <td>Whatcom</td>\n",
       "      <td>מחוז ואטקום</td>\n",
       "      <td>None</td>\n",
       "      <td>Whatcom</td>\n",
       "      <td>None</td>\n",
       "      <td>Whatcom</td>\n",
       "      <td>ワットコム郡</td>\n",
       "      <td>왓컴</td>\n",
       "      <td>Whatcom</td>\n",
       "      <td>Whatcom</td>\n",
       "      <td>Whatcom</td>\n",
       "      <td>Уотком</td>\n",
       "      <td>Whatcom</td>\n",
       "      <td>Whatcom</td>\n",
       "      <td>Вотком</td>\n",
       "      <td>واٹکم کاؤنٹی، واشنگٹن</td>\n",
       "      <td>Whatcom</td>\n",
       "      <td>霍特科姆县</td>\n",
       "      <td>霍特科姆縣</td>\n",
       "      <td>MULTIPOLYGON (((-122.75302 48.99251, -122.6532...</td>\n",
       "    </tr>\n",
       "    <tr>\n",
       "      <th>1</th>\n",
       "      <td>Admin-2 scale rank</td>\n",
       "      <td>0</td>\n",
       "      <td>USA-53047</td>\n",
       "      <td>US-53</td>\n",
       "      <td>US</td>\n",
       "      <td>1</td>\n",
       "      <td>Okanogan</td>\n",
       "      <td>Okanogan County</td>\n",
       "      <td>None</td>\n",
       "      <td>County</td>\n",
       "      <td>County</td>\n",
       "      <td>53047</td>\n",
       "      <td>WA</td>\n",
       "      <td>53</td>\n",
       "      <td>None</td>\n",
       "      <td>13704.0</td>\n",
       "      <td>0</td>\n",
       "      <td>0</td>\n",
       "      <td>8</td>\n",
       "      <td>1</td>\n",
       "      <td>1</td>\n",
       "      <td>US53047</td>\n",
       "      <td>US1</td>\n",
       "      <td>USA</td>\n",
       "      <td>2</td>\n",
       "      <td>United States of America</td>\n",
       "      <td>United States of America</td>\n",
       "      <td>USA</td>\n",
       "      <td>7</td>\n",
       "      <td>9</td>\n",
       "      <td>6.5</td>\n",
       "      <td>Q483958</td>\n",
       "      <td>1730095887</td>\n",
       "      <td>48.538853</td>\n",
       "      <td>-119.737274</td>\n",
       "      <td>أوكانوغان</td>\n",
       "      <td>None</td>\n",
       "      <td>Okanogan</td>\n",
       "      <td>None</td>\n",
       "      <td>Okanogan</td>\n",
       "      <td>Okanogan</td>\n",
       "      <td>شهرستان اوکانوگان، واشینگتن</td>\n",
       "      <td>'Okanogan</td>\n",
       "      <td>מחוז אוקאנוגאן</td>\n",
       "      <td>None</td>\n",
       "      <td>Okanogan</td>\n",
       "      <td>None</td>\n",
       "      <td>Okanogan</td>\n",
       "      <td>オウカノガン郡</td>\n",
       "      <td>오커나건</td>\n",
       "      <td>Okanogan</td>\n",
       "      <td>Okanogan</td>\n",
       "      <td>Okanogan</td>\n",
       "      <td>Оканоган</td>\n",
       "      <td>Okanogan</td>\n",
       "      <td>Okanogan</td>\n",
       "      <td>Оканоґан</td>\n",
       "      <td>اوکاناگن کاؤنٹی، واشنگٹن</td>\n",
       "      <td>Okanogan</td>\n",
       "      <td>奥卡诺根县</td>\n",
       "      <td>奧卡諾根縣</td>\n",
       "      <td>POLYGON ((-120.85196 48.99251, -120.67495 48.9...</td>\n",
       "    </tr>\n",
       "    <tr>\n",
       "      <th>2</th>\n",
       "      <td>Admin-2 scale rank</td>\n",
       "      <td>0</td>\n",
       "      <td>USA-53019</td>\n",
       "      <td>US-53</td>\n",
       "      <td>US</td>\n",
       "      <td>1</td>\n",
       "      <td>Ferry</td>\n",
       "      <td>Ferry County</td>\n",
       "      <td>None</td>\n",
       "      <td>County</td>\n",
       "      <td>County</td>\n",
       "      <td>53019</td>\n",
       "      <td>WA</td>\n",
       "      <td>53</td>\n",
       "      <td>None</td>\n",
       "      <td>5816.0</td>\n",
       "      <td>0</td>\n",
       "      <td>0</td>\n",
       "      <td>5</td>\n",
       "      <td>1</td>\n",
       "      <td>1</td>\n",
       "      <td>US53019</td>\n",
       "      <td>US1</td>\n",
       "      <td>USA</td>\n",
       "      <td>2</td>\n",
       "      <td>United States of America</td>\n",
       "      <td>United States of America</td>\n",
       "      <td>USA</td>\n",
       "      <td>7</td>\n",
       "      <td>9</td>\n",
       "      <td>6.5</td>\n",
       "      <td>Q493228</td>\n",
       "      <td>1730095865</td>\n",
       "      <td>48.462338</td>\n",
       "      <td>-118.524213</td>\n",
       "      <td>فيري</td>\n",
       "      <td>None</td>\n",
       "      <td>Ferry</td>\n",
       "      <td>None</td>\n",
       "      <td>Ferry</td>\n",
       "      <td>Ferry</td>\n",
       "      <td>شهرستان فری، واشینگتن</td>\n",
       "      <td>Ferry</td>\n",
       "      <td>מחוז פרי</td>\n",
       "      <td>None</td>\n",
       "      <td>Ferry</td>\n",
       "      <td>None</td>\n",
       "      <td>Ferry</td>\n",
       "      <td>フェリー郡</td>\n",
       "      <td>페리</td>\n",
       "      <td>Ferry</td>\n",
       "      <td>Ferry</td>\n",
       "      <td>Ferry</td>\n",
       "      <td>Ферри</td>\n",
       "      <td>Ferry</td>\n",
       "      <td>Ferry</td>\n",
       "      <td>Феррі</td>\n",
       "      <td>فیری کاؤنٹی، واشنگٹن</td>\n",
       "      <td>Ferry</td>\n",
       "      <td>费里县</td>\n",
       "      <td>費里縣</td>\n",
       "      <td>POLYGON ((-118.83688 48.99251, -118.69668 48.9...</td>\n",
       "    </tr>\n",
       "  </tbody>\n",
       "</table>\n",
       "</div>"
      ],
      "text/plain": [
       "           featurecla  scalerank  adm2_code iso_3166_2 iso_a2  adm0_sr  \\\n",
       "0  Admin-2 scale rank          0  USA-53073      US-53     US        1   \n",
       "1  Admin-2 scale rank          0  USA-53047      US-53     US        1   \n",
       "2  Admin-2 scale rank          0  USA-53019      US-53     US        1   \n",
       "\n",
       "       name         name_alt name_local    type type_en code_local region  \\\n",
       "0   Whatcom   Whatcom County       None  County  County      53073     WA   \n",
       "1  Okanogan  Okanogan County       None  County  County      53047     WA   \n",
       "2     Ferry     Ferry County       None  County  County      53019     WA   \n",
       "\n",
       "  region_cod abbrev  area_sqkm  sameascity  labelrank  name_len  mapcolor9  \\\n",
       "0         53   None     5484.0           0          0         7          1   \n",
       "1         53   None    13704.0           0          0         8          1   \n",
       "2         53   None     5816.0           0          0         5          1   \n",
       "\n",
       "   mapcolor13     fips sov_a3 adm0_a3  adm0_label                     admin  \\\n",
       "0           1  US53073    US1     USA           2  United States of America   \n",
       "1           1  US53047    US1     USA           2  United States of America   \n",
       "2           1  US53019    US1     USA           2  United States of America   \n",
       "\n",
       "                   geonunit gu_a3  min_label  max_label  min_zoom wikidataid  \\\n",
       "0  United States of America   USA          7          9       6.5    Q156623   \n",
       "1  United States of America   USA          7          9       6.5    Q483958   \n",
       "2  United States of America   USA          7          9       6.5    Q493228   \n",
       "\n",
       "        ne_id   latitude   longitude    name_ar name_bn   name_de name_el  \\\n",
       "0  1730095903  48.817814 -121.709219     واتكوم    None   Whatcom    None   \n",
       "1  1730095887  48.538853 -119.737274  أوكانوغان    None  Okanogan    None   \n",
       "2  1730095865  48.462338 -118.524213       فيري    None     Ferry    None   \n",
       "\n",
       "    name_en   name_es                      name_fa    name_fr         name_he  \\\n",
       "0   Whatcom   Whatcom     شهرستان واتکام، واشینگتن    Whatcom     מחוז ואטקום   \n",
       "1  Okanogan  Okanogan  شهرستان اوکانوگان، واشینگتن  'Okanogan  מחוז אוקאנוגאן   \n",
       "2     Ferry     Ferry        شهرستان فری، واشینگتن      Ferry        מחוז פרי   \n",
       "\n",
       "  name_hi   name_hu name_id   name_it  name_ja name_ko   name_nl   name_pl  \\\n",
       "0    None   Whatcom    None   Whatcom   ワットコム郡      왓컴   Whatcom   Whatcom   \n",
       "1    None  Okanogan    None  Okanogan  オウカノガン郡    오커나건  Okanogan  Okanogan   \n",
       "2    None     Ferry    None     Ferry    フェリー郡      페리     Ferry     Ferry   \n",
       "\n",
       "    name_pt   name_ru   name_sv   name_tr   name_uk                   name_ur  \\\n",
       "0   Whatcom    Уотком   Whatcom   Whatcom    Вотком     واٹکم کاؤنٹی، واشنگٹن   \n",
       "1  Okanogan  Оканоган  Okanogan  Okanogan  Оканоґан  اوکاناگن کاؤنٹی، واشنگٹن   \n",
       "2     Ferry     Ферри     Ferry     Ferry     Феррі      فیری کاؤنٹی، واشنگٹن   \n",
       "\n",
       "    name_vi name_zh name_zht  \\\n",
       "0   Whatcom   霍特科姆县    霍特科姆縣   \n",
       "1  Okanogan   奥卡诺根县    奧卡諾根縣   \n",
       "2     Ferry     费里县      費里縣   \n",
       "\n",
       "                                            geometry  \n",
       "0  MULTIPOLYGON (((-122.75302 48.99251, -122.6532...  \n",
       "1  POLYGON ((-120.85196 48.99251, -120.67495 48.9...  \n",
       "2  POLYGON ((-118.83688 48.99251, -118.69668 48.9...  "
      ]
     },
     "execution_count": 36,
     "metadata": {},
     "output_type": "execute_result"
    }
   ],
   "source": [
    "# update column names to small caps\n",
    "print('old column names:\\n', counties.columns, '\\n')\n",
    "counties.columns = counties.columns.str.lower()\n",
    "\n",
    "# check first three rows of geodataframe\n",
    "counties.head(3)"
   ]
  },
  {
   "cell_type": "markdown",
   "metadata": {},
   "source": [
    "### Data selection\n",
    "\n",
    "In this step we select all the counties for the state of New York in a new variable `ny_counties` and plot them."
   ]
  },
  {
   "cell_type": "code",
   "execution_count": 48,
   "metadata": {
    "tags": []
   },
   "outputs": [
    {
     "data": {
      "text/plain": [
       "<AxesSubplot:>"
      ]
     },
     "execution_count": 48,
     "metadata": {},
     "output_type": "execute_result"
    },
    {
     "data": {
      "image/png": "[encoded data removed]",
      "text/plain": [
       "<Figure size 640x480 with 1 Axes>"
      ]
     },
     "metadata": {},
     "output_type": "display_data"
    }
   ],
   "source": [
    "# select NY counties data and plot it\n",
    "ny_counties = counties[counties.region == 'NY']\n",
    "ny_counties.plot(column='name')"
   ]
  },
  {
   "cell_type": "markdown",
   "metadata": {},
   "source": [
    "### Geographic context"
   ]
  },
  {
   "cell_type": "markdown",
   "metadata": {},
   "source": [
    "For context, let's see where NY state is relative to the United States:"
   ]
  },
  {
   "cell_type": "code",
   "execution_count": 70,
   "metadata": {
    "tags": []
   },
   "outputs": [],
   "source": [
    "us_polys = counties.dissolve().explode(ignore_index=True)\n",
    "us = us_polys.iloc[[0]]"
   ]
  },
  {
   "cell_type": "code",
   "execution_count": 71,
   "metadata": {
    "tags": []
   },
   "outputs": [
    {
     "data": {
      "image/png": "[encoded data removed]",
      "text/plain": [
       "<Figure size 640x480 with 1 Axes>"
      ]
     },
     "metadata": {},
     "output_type": "display_data"
    }
   ],
   "source": [
    "fig, ax = plt.subplots()\n",
    "# --------------------------------------------\n",
    "us.plot(ax=ax, color = 'pink')\n",
    "us_patch = Patch(color='pink',\n",
    "                           label='United States')\n",
    "\n",
    "# --------------------------------------------\n",
    "ny_counties.plot(ax=ax, color = 'blue')\n",
    "ny_patch = Patch(color='blue',\n",
    "                           label='New York State')\n",
    "\n",
    "# ------------------------------------------\n",
    "# create elegend\n",
    "ax.legend(handles = [us_patch, ny_patch], frameon=False, loc='upper left')\n",
    "\n",
    "plt.show()"
   ]
  },
  {
   "cell_type": "markdown",
   "metadata": {},
   "source": [
    "## Merging\n",
    "\n",
    "The goal of this section is to create a single dataframe with the number of spills per county and the corresponding geometries for each county.\n",
    "\n",
    "### Explore data\n",
    "\n",
    "In the next cells:\n",
    "\n",
    "1. Print the names of counties in `ny_counties`, without repetition.\n",
    "2. Print the names of counties in `spills_per_county`, without repetition. (Do you notice anything?)\n",
    "3. Use the [`numpy` function `setdiff1d`](https://numpy.org/doc/stable/reference/generated/numpy.setdiff1d.html) to find the county names that are in `spills_per_county`, but not in `ny_counties`. HINT: read the example in the documentation.\n",
    "4. Find the county names that are in `ny_counties`, but not in `spills_per_county`.\n",
    "5. Check the number of spills in 'Tuscarora Indian Reservation'.\n"
   ]
  },
  {
   "cell_type": "code",
   "execution_count": 21,
   "metadata": {},
   "outputs": [
    {
     "data": {
      "text/plain": [
       "array(['New Jersey - Region 2', 'St Lawrence',\n",
       "       'Tuscarora Indian Reservation'], dtype=object)"
      ]
     },
     "execution_count": 21,
     "metadata": {},
     "output_type": "execute_result"
    }
   ],
   "source": [
    "print('counties in spills_per_county, but not in ny_counties:', \n",
    "        np.setdiff1d(spills_per_county.county.unique(), ny_counties.name.unique()))\n",
    "print('counties in ny_counties, but not in spills_per_county:',\n",
    "        np.setdiff1d(ny_counties.name.unique(),spills_per_county.county.unique()))"
   ]
  },
  {
   "cell_type": "markdown",
   "metadata": {},
   "source": [
    "Sth about New Jersey - Region 2 and Tuscarora Indian Reservation"
   ]
  },
  {
   "cell_type": "code",
   "execution_count": 23,
   "metadata": {},
   "outputs": [
    {
     "data": {
      "text/html": [
       "<div>\n",
       "<style scoped>\n",
       "    .dataframe tbody tr th:only-of-type {\n",
       "        vertical-align: middle;\n",
       "    }\n",
       "\n",
       "    .dataframe tbody tr th {\n",
       "        vertical-align: top;\n",
       "    }\n",
       "\n",
       "    .dataframe thead th {\n",
       "        text-align: right;\n",
       "    }\n",
       "</style>\n",
       "<table border=\"1\" class=\"dataframe\">\n",
       "  <thead>\n",
       "    <tr style=\"text-align: right;\">\n",
       "      <th></th>\n",
       "      <th>county</th>\n",
       "      <th>n_spills</th>\n",
       "    </tr>\n",
       "  </thead>\n",
       "  <tbody>\n",
       "    <tr>\n",
       "      <th>56</th>\n",
       "      <td>Tuscarora Indian Reservation</td>\n",
       "      <td>1</td>\n",
       "    </tr>\n",
       "  </tbody>\n",
       "</table>\n",
       "</div>"
      ],
      "text/plain": [
       "                          county  n_spills\n",
       "56  Tuscarora Indian Reservation         1"
      ]
     },
     "execution_count": 23,
     "metadata": {},
     "output_type": "execute_result"
    }
   ],
   "source": [
    "# 5. \n",
    "spills_per_county[spills_per_county.county == 'Tuscarora Indian Reservation']\n"
   ]
  },
  {
   "cell_type": "markdown",
   "metadata": {},
   "source": [
    "### Data updates\n",
    "\n",
    "In this section we will update 'St Lawrence' to 'St. Lawrence' in `spills_per_county` data frame.\n",
    "\n",
    "In the next cells:\n",
    "1. Check the row in `spills_per_county` that has 'St Lawrence'\n",
    "2. Run the code and read the explanation in the comments\n",
    "3. Run the code and read the explanation in the comments\n",
    "4. Use the `st_lawrence_index` and `at` to update St Lawrence name in `spills_per_county` dataframe\n",
    "5. Check the update was successfull"
   ]
  },
  {
   "cell_type": "code",
   "execution_count": 24,
   "metadata": {},
   "outputs": [
    {
     "data": {
      "text/html": [
       "<div>\n",
       "<style scoped>\n",
       "    .dataframe tbody tr th:only-of-type {\n",
       "        vertical-align: middle;\n",
       "    }\n",
       "\n",
       "    .dataframe tbody tr th {\n",
       "        vertical-align: top;\n",
       "    }\n",
       "\n",
       "    .dataframe thead th {\n",
       "        text-align: right;\n",
       "    }\n",
       "</style>\n",
       "<table border=\"1\" class=\"dataframe\">\n",
       "  <thead>\n",
       "    <tr style=\"text-align: right;\">\n",
       "      <th></th>\n",
       "      <th>county</th>\n",
       "      <th>n_spills</th>\n",
       "    </tr>\n",
       "  </thead>\n",
       "  <tbody>\n",
       "    <tr>\n",
       "      <th>50</th>\n",
       "      <td>St Lawrence</td>\n",
       "      <td>65</td>\n",
       "    </tr>\n",
       "  </tbody>\n",
       "</table>\n",
       "</div>"
      ],
      "text/plain": [
       "         county  n_spills\n",
       "50  St Lawrence        65"
      ]
     },
     "execution_count": 24,
     "metadata": {},
     "output_type": "execute_result"
    }
   ],
   "source": [
    "# 1. \n",
    "spills_per_county.loc[spills_per_county.county=='St Lawrence']"
   ]
  },
  {
   "cell_type": "code",
   "execution_count": 25,
   "metadata": {},
   "outputs": [
    {
     "data": {
      "text/plain": [
       "Int64Index([50], dtype='int64')"
      ]
     },
     "execution_count": 25,
     "metadata": {},
     "output_type": "execute_result"
    }
   ],
   "source": [
    "# 2. we can get the index of that single row like this, to access the actual row index...\n",
    "spills_per_county[spills_per_county.county=='St Lawrence'].index"
   ]
  },
  {
   "cell_type": "code",
   "execution_count": 26,
   "metadata": {},
   "outputs": [
    {
     "data": {
      "text/plain": [
       "50"
      ]
     },
     "execution_count": 26,
     "metadata": {},
     "output_type": "execute_result"
    }
   ],
   "source": [
    "# 3. we need to select the first item in that tuple using [0]\n",
    "st_lawrence_index = spills_per_county[spills_per_county.county=='St Lawrence'].index[0]\n",
    "st_lawrence_index"
   ]
  },
  {
   "cell_type": "code",
   "execution_count": 27,
   "metadata": {},
   "outputs": [],
   "source": [
    "# 4. \n",
    "spills_per_county.at[st_lawrence_index, 'county'] = 'St. Lawrence'"
   ]
  },
  {
   "cell_type": "code",
   "execution_count": 28,
   "metadata": {},
   "outputs": [
    {
     "data": {
      "text/plain": [
       "50    St. Lawrence\n",
       "Name: county, dtype: object"
      ]
     },
     "execution_count": 28,
     "metadata": {},
     "output_type": "execute_result"
    }
   ],
   "source": [
    "# 5.\n",
    "spills_per_county.loc[spills_per_county.county == 'St. Lawrence','county']"
   ]
  },
  {
   "cell_type": "markdown",
   "metadata": {},
   "source": [
    "### Merge\n",
    "\n",
    "In the following cells:\n",
    "1. Use this cell to make any other updates needed for making an inner join of the `spills_per_county` and `ny_counties`. \n",
    "2. Over-write `ny_counties` as the  inner join of the `spills_per_county` and `ny_counties` dataframes.\n",
    "\n",
    "From our previous exploration we know that Tuscarora Indian Reservation will not be in the join. Tuscarora Indian Reservation is located within Niagara county. \n",
    "\n",
    "3. Since the Tuscarora Indian Reservation does not appear in the `ny_counties` dataframe, add one spill to Niagara county. We will add a note about this in our final map. You may add all the cells to make this update **and** verify that the dataframe was updated."
   ]
  },
  {
   "cell_type": "code",
   "execution_count": 29,
   "metadata": {},
   "outputs": [],
   "source": [
    "# 1. \n",
    "ny_counties = ny_counties.rename(columns={'name':'county'})\n"
   ]
  },
  {
   "cell_type": "code",
   "execution_count": 30,
   "metadata": {},
   "outputs": [
    {
     "data": {
      "text/html": [
       "<div>\n",
       "<style scoped>\n",
       "    .dataframe tbody tr th:only-of-type {\n",
       "        vertical-align: middle;\n",
       "    }\n",
       "\n",
       "    .dataframe tbody tr th {\n",
       "        vertical-align: top;\n",
       "    }\n",
       "\n",
       "    .dataframe thead th {\n",
       "        text-align: right;\n",
       "    }\n",
       "</style>\n",
       "<table border=\"1\" class=\"dataframe\">\n",
       "  <thead>\n",
       "    <tr style=\"text-align: right;\">\n",
       "      <th></th>\n",
       "      <th>statefp</th>\n",
       "      <th>countyfp</th>\n",
       "      <th>countyns</th>\n",
       "      <th>geoid</th>\n",
       "      <th>county</th>\n",
       "      <th>namelsad</th>\n",
       "      <th>lsad</th>\n",
       "      <th>classfp</th>\n",
       "      <th>mtfcc</th>\n",
       "      <th>csafp</th>\n",
       "      <th>cbsafp</th>\n",
       "      <th>metdivfp</th>\n",
       "      <th>funcstat</th>\n",
       "      <th>aland</th>\n",
       "      <th>awater</th>\n",
       "      <th>intptlat</th>\n",
       "      <th>intptlon</th>\n",
       "      <th>geometry</th>\n",
       "      <th>n_spills</th>\n",
       "    </tr>\n",
       "  </thead>\n",
       "  <tbody>\n",
       "    <tr>\n",
       "      <th>0</th>\n",
       "      <td>36</td>\n",
       "      <td>101</td>\n",
       "      <td>00974148</td>\n",
       "      <td>36101</td>\n",
       "      <td>Steuben</td>\n",
       "      <td>Steuben County</td>\n",
       "      <td>06</td>\n",
       "      <td>H1</td>\n",
       "      <td>G4020</td>\n",
       "      <td>None</td>\n",
       "      <td>None</td>\n",
       "      <td>None</td>\n",
       "      <td>A</td>\n",
       "      <td>3601398422</td>\n",
       "      <td>35039875</td>\n",
       "      <td>+42.2667252</td>\n",
       "      <td>-077.3855253</td>\n",
       "      <td>POLYGON ((-77.08327 42.00002, -77.09391 41.999...</td>\n",
       "      <td>71</td>\n",
       "    </tr>\n",
       "    <tr>\n",
       "      <th>1</th>\n",
       "      <td>36</td>\n",
       "      <td>091</td>\n",
       "      <td>00974143</td>\n",
       "      <td>36091</td>\n",
       "      <td>Saratoga</td>\n",
       "      <td>Saratoga County</td>\n",
       "      <td>06</td>\n",
       "      <td>H1</td>\n",
       "      <td>G4020</td>\n",
       "      <td>None</td>\n",
       "      <td>None</td>\n",
       "      <td>None</td>\n",
       "      <td>A</td>\n",
       "      <td>2097812305</td>\n",
       "      <td>87488004</td>\n",
       "      <td>+43.1061353</td>\n",
       "      <td>-073.8553872</td>\n",
       "      <td>POLYGON ((-73.67891 42.91221, -73.67938 42.911...</td>\n",
       "      <td>158</td>\n",
       "    </tr>\n",
       "    <tr>\n",
       "      <th>2</th>\n",
       "      <td>36</td>\n",
       "      <td>003</td>\n",
       "      <td>00974100</td>\n",
       "      <td>36003</td>\n",
       "      <td>Allegany</td>\n",
       "      <td>Allegany County</td>\n",
       "      <td>06</td>\n",
       "      <td>H1</td>\n",
       "      <td>G4020</td>\n",
       "      <td>None</td>\n",
       "      <td>None</td>\n",
       "      <td>None</td>\n",
       "      <td>A</td>\n",
       "      <td>2666225086</td>\n",
       "      <td>12989848</td>\n",
       "      <td>+42.2478532</td>\n",
       "      <td>-078.0261531</td>\n",
       "      <td>POLYGON ((-78.04342 42.51846, -78.04326 42.518...</td>\n",
       "      <td>30</td>\n",
       "    </tr>\n",
       "    <tr>\n",
       "      <th>3</th>\n",
       "      <td>36</td>\n",
       "      <td>075</td>\n",
       "      <td>00974136</td>\n",
       "      <td>36075</td>\n",
       "      <td>Oswego</td>\n",
       "      <td>Oswego County</td>\n",
       "      <td>06</td>\n",
       "      <td>H1</td>\n",
       "      <td>G4020</td>\n",
       "      <td>None</td>\n",
       "      <td>None</td>\n",
       "      <td>None</td>\n",
       "      <td>A</td>\n",
       "      <td>2464636023</td>\n",
       "      <td>933469962</td>\n",
       "      <td>+43.4614431</td>\n",
       "      <td>-076.2092618</td>\n",
       "      <td>POLYGON ((-76.02509 43.70702, -76.02004 43.706...</td>\n",
       "      <td>68</td>\n",
       "    </tr>\n",
       "    <tr>\n",
       "      <th>4</th>\n",
       "      <td>36</td>\n",
       "      <td>111</td>\n",
       "      <td>00974153</td>\n",
       "      <td>36111</td>\n",
       "      <td>Ulster</td>\n",
       "      <td>Ulster County</td>\n",
       "      <td>06</td>\n",
       "      <td>H1</td>\n",
       "      <td>G4020</td>\n",
       "      <td>None</td>\n",
       "      <td>None</td>\n",
       "      <td>None</td>\n",
       "      <td>A</td>\n",
       "      <td>2911757764</td>\n",
       "      <td>94596810</td>\n",
       "      <td>+41.9472124</td>\n",
       "      <td>-074.2654582</td>\n",
       "      <td>POLYGON ((-74.07480 42.09659, -74.06441 42.120...</td>\n",
       "      <td>158</td>\n",
       "    </tr>\n",
       "  </tbody>\n",
       "</table>\n",
       "</div>"
      ],
      "text/plain": [
       "  statefp countyfp  countyns  geoid    county         namelsad lsad classfp  \\\n",
       "0      36      101  00974148  36101   Steuben   Steuben County   06      H1   \n",
       "1      36      091  00974143  36091  Saratoga  Saratoga County   06      H1   \n",
       "2      36      003  00974100  36003  Allegany  Allegany County   06      H1   \n",
       "3      36      075  00974136  36075    Oswego    Oswego County   06      H1   \n",
       "4      36      111  00974153  36111    Ulster    Ulster County   06      H1   \n",
       "\n",
       "   mtfcc csafp cbsafp metdivfp funcstat       aland     awater     intptlat  \\\n",
       "0  G4020  None   None     None        A  3601398422   35039875  +42.2667252   \n",
       "1  G4020  None   None     None        A  2097812305   87488004  +43.1061353   \n",
       "2  G4020  None   None     None        A  2666225086   12989848  +42.2478532   \n",
       "3  G4020  None   None     None        A  2464636023  933469962  +43.4614431   \n",
       "4  G4020  None   None     None        A  2911757764   94596810  +41.9472124   \n",
       "\n",
       "       intptlon                                           geometry  n_spills  \n",
       "0  -077.3855253  POLYGON ((-77.08327 42.00002, -77.09391 41.999...        71  \n",
       "1  -073.8553872  POLYGON ((-73.67891 42.91221, -73.67938 42.911...       158  \n",
       "2  -078.0261531  POLYGON ((-78.04342 42.51846, -78.04326 42.518...        30  \n",
       "3  -076.2092618  POLYGON ((-76.02509 43.70702, -76.02004 43.706...        68  \n",
       "4  -074.2654582  POLYGON ((-74.07480 42.09659, -74.06441 42.120...       158  "
      ]
     },
     "execution_count": 30,
     "metadata": {},
     "output_type": "execute_result"
    }
   ],
   "source": [
    "# join dataframes\n",
    "ny_counties = pd.merge(ny_counties, spills_per_county, how='inner', on='county')\n",
    "ny_counties.head()"
   ]
  },
  {
   "cell_type": "code",
   "execution_count": 31,
   "metadata": {},
   "outputs": [
    {
     "data": {
      "text/plain": [
       "45    88\n",
       "Name: n_spills, dtype: int64"
      ]
     },
     "execution_count": 31,
     "metadata": {},
     "output_type": "execute_result"
    }
   ],
   "source": [
    "# check Niagara row\n",
    "ny_counties.loc[ny_counties.county=='Niagara','n_spills']"
   ]
  },
  {
   "cell_type": "code",
   "execution_count": 32,
   "metadata": {},
   "outputs": [
    {
     "data": {
      "text/html": [
       "<div>\n",
       "<style scoped>\n",
       "    .dataframe tbody tr th:only-of-type {\n",
       "        vertical-align: middle;\n",
       "    }\n",
       "\n",
       "    .dataframe tbody tr th {\n",
       "        vertical-align: top;\n",
       "    }\n",
       "\n",
       "    .dataframe thead th {\n",
       "        text-align: right;\n",
       "    }\n",
       "</style>\n",
       "<table border=\"1\" class=\"dataframe\">\n",
       "  <thead>\n",
       "    <tr style=\"text-align: right;\">\n",
       "      <th></th>\n",
       "      <th>statefp</th>\n",
       "      <th>countyfp</th>\n",
       "      <th>countyns</th>\n",
       "      <th>geoid</th>\n",
       "      <th>county</th>\n",
       "      <th>namelsad</th>\n",
       "      <th>lsad</th>\n",
       "      <th>classfp</th>\n",
       "      <th>mtfcc</th>\n",
       "      <th>csafp</th>\n",
       "      <th>cbsafp</th>\n",
       "      <th>metdivfp</th>\n",
       "      <th>funcstat</th>\n",
       "      <th>aland</th>\n",
       "      <th>awater</th>\n",
       "      <th>intptlat</th>\n",
       "      <th>intptlon</th>\n",
       "      <th>geometry</th>\n",
       "      <th>n_spills</th>\n",
       "    </tr>\n",
       "  </thead>\n",
       "  <tbody>\n",
       "    <tr>\n",
       "      <th>45</th>\n",
       "      <td>36</td>\n",
       "      <td>063</td>\n",
       "      <td>00974130</td>\n",
       "      <td>36063</td>\n",
       "      <td>Niagara</td>\n",
       "      <td>Niagara County</td>\n",
       "      <td>06</td>\n",
       "      <td>H1</td>\n",
       "      <td>G4020</td>\n",
       "      <td>None</td>\n",
       "      <td>None</td>\n",
       "      <td>None</td>\n",
       "      <td>A</td>\n",
       "      <td>1352887560</td>\n",
       "      <td>1598842379</td>\n",
       "      <td>+43.2726719</td>\n",
       "      <td>-078.8129431</td>\n",
       "      <td>POLYGON ((-78.49165 43.08396, -78.49179 43.084...</td>\n",
       "      <td>89</td>\n",
       "    </tr>\n",
       "  </tbody>\n",
       "</table>\n",
       "</div>"
      ],
      "text/plain": [
       "   statefp countyfp  countyns  geoid   county        namelsad lsad classfp  \\\n",
       "45      36      063  00974130  36063  Niagara  Niagara County   06      H1   \n",
       "\n",
       "    mtfcc csafp cbsafp metdivfp funcstat       aland      awater     intptlat  \\\n",
       "45  G4020  None   None     None        A  1352887560  1598842379  +43.2726719   \n",
       "\n",
       "        intptlon                                           geometry  n_spills  \n",
       "45  -078.8129431  POLYGON ((-78.49165 43.08396, -78.49179 43.084...        89  "
      ]
     },
     "execution_count": 32,
     "metadata": {},
     "output_type": "execute_result"
    }
   ],
   "source": [
    "# find index and add one\n",
    "niagara_index = ny_counties[ny_counties.county=='Niagara'].index[0]\n",
    "ny_counties.at[niagara_index, 'n_spills']+=1\n",
    "ny_counties.loc[ny_counties.county=='Niagara']\n"
   ]
  },
  {
   "cell_type": "markdown",
   "metadata": {},
   "source": [
    "## Map\n",
    "Create a choropleth map of the number of petroleum spills per county in the state of New York in 2023. \n",
    "Your map should have (at least) the following updates:\n",
    "- a legend indicating the number of spills\n",
    "- an updated color map\n",
    "- a title \n",
    "- no axis\n",
    "- an annotation with the data source (New York State Department of Environmental Conservation), date of access HINT: check the graph we did for power plants, \n",
    "- an annotation indicating one spill occurred in Tuscarora Indian Reservation within Niagara county"
   ]
  },
  {
   "cell_type": "markdown",
   "metadata": {},
   "source": [
    "Tuscarora Indian Reservation in Niagara county"
   ]
  },
  {
   "cell_type": "code",
   "execution_count": 33,
   "metadata": {},
   "outputs": [
    {
     "data": {
      "text/plain": [
       "Text(0.05, 0.16, 'The oil spill rerpoted in Tuscarora Indian Reservation, was added to Niagara county.')"
      ]
     },
     "execution_count": 33,
     "metadata": {},
     "output_type": "execute_result"
    },
    {
     "data": {
      "image/png": "[encoded data removed]",
      "text/plain": [
       "<Figure size 720x720 with 2 Axes>"
      ]
     },
     "metadata": {
      "needs_background": "light"
     },
     "output_type": "display_data"
    }
   ],
   "source": [
    "fig, ax = plt.subplots(figsize=(10,10))\n",
    "\n",
    "ax.axis('off')\n",
    "ax.set_title('Petroleum spills in NY state (Jan - Oct 2023)',  fontsize=20)\n",
    "\n",
    "ny_counties.plot(ax=ax, \n",
    "                column='n_spills', \n",
    "                cmap='BuPu',\n",
    "                legend=True,\n",
    "                edgecolor=\"0.8\",\n",
    "                legend_kwds={\"shrink\":.6,\n",
    "                             'label': \"Number of petroleum spills\"})\n",
    "\n",
    "# annotate the data source\n",
    "ax.annotate(\"Data: New York State Department of Environmental Conservation, accessed Nov 3, 2023 \\nhttps://data.ny.gov/Energy-Environment/Spill-Incidents/u44d-k5fk\", \n",
    "            xy=(0.05, .1), # position\n",
    "            xycoords='figure fraction', \n",
    "            fontsize=8, \n",
    "            color='#555555') \n",
    "\n",
    "# annotate Tuscarora\n",
    "ax.annotate(\"The oil spill rerpoted in Tuscarora Indian Reservation, was added to Niagara county.\", \n",
    "            xy=(0.05, .16), # position\n",
    "            xycoords='figure fraction', \n",
    "            fontsize=12, \n",
    "            color='#555555') \n",
    "\n",
    "\n",
    "plt.show()"
   ]
  },
  {
   "cell_type": "code",
   "execution_count": null,
   "metadata": {},
   "outputs": [],
   "source": []
  }
 ],
 "metadata": {
  "kernelspec": {
   "display_name": "Anaconda 3 (Base)",
   "language": "python",
   "name": "base"
  },
  "language_info": {
   "codemirror_mode": {
    "name": "ipython",
    "version": 3
   },
   "file_extension": ".py",
   "mimetype": "text/x-python",
   "name": "python",
   "nbconvert_exporter": "python",
   "pygments_lexer": "ipython3",
   "version": "3.9.13"
  },
  "vscode": {
   "interpreter": {
    "hash": "40d3a090f54c6569ab1632332b64b2c03c39dcf918b08424e98f38b5ae0af88f"
   }
  }
 },
 "nbformat": 4,
 "nbformat_minor": 4
}
